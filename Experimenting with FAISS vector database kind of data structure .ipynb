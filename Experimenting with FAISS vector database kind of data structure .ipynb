{
 "cells": [
  {
   "cell_type": "code",
   "execution_count": 1,
   "id": "efb99e32",
   "metadata": {},
   "outputs": [
    {
     "name": "stdout",
     "output_type": "stream",
     "text": [
      "Collecting faiss-cpu\n",
      "  Downloading faiss_cpu-1.7.4-cp311-cp311-win_amd64.whl (10.8 MB)\n",
      "     ---------------------------------------- 0.0/10.8 MB ? eta -:--:--\n",
      "     ---------------------------------------- 0.0/10.8 MB ? eta -:--:--\n",
      "     --------------------------------------- 0.0/10.8 MB 435.7 kB/s eta 0:00:25\n",
      "     --------------------------------------- 0.1/10.8 MB 744.7 kB/s eta 0:00:15\n",
      "     - -------------------------------------- 0.4/10.8 MB 2.7 MB/s eta 0:00:04\n",
      "     ----- ---------------------------------- 1.4/10.8 MB 6.3 MB/s eta 0:00:02\n",
      "     ------------ --------------------------- 3.4/10.8 MB 12.6 MB/s eta 0:00:01\n",
      "     ------------------------ --------------- 6.6/10.8 MB 20.9 MB/s eta 0:00:01\n",
      "     -------------------------- ------------- 7.1/10.8 MB 22.7 MB/s eta 0:00:01\n",
      "     -------------------------- ------------- 7.1/10.8 MB 22.7 MB/s eta 0:00:01\n",
      "     -------------------------------- ------- 8.8/10.8 MB 19.4 MB/s eta 0:00:01\n",
      "     --------------------------------------  10.8/10.8 MB 36.4 MB/s eta 0:00:01\n",
      "     --------------------------------------- 10.8/10.8 MB 31.2 MB/s eta 0:00:00\n",
      "Installing collected packages: faiss-cpu\n",
      "Successfully installed faiss-cpu-1.7.4\n",
      "Collecting sentence-transformers\n",
      "  Downloading sentence-transformers-2.2.2.tar.gz (85 kB)\n",
      "     ---------------------------------------- 0.0/86.0 kB ? eta -:--:--\n",
      "     ---- ----------------------------------- 10.2/86.0 kB ? eta -:--:--\n",
      "     ------------- ------------------------ 30.7/86.0 kB 435.7 kB/s eta 0:00:01\n",
      "     ------------------------------------ - 81.9/86.0 kB 657.6 kB/s eta 0:00:01\n",
      "     -------------------------------------- 86.0/86.0 kB 605.7 kB/s eta 0:00:00\n",
      "  Preparing metadata (setup.py): started\n",
      "  Preparing metadata (setup.py): finished with status 'done'\n",
      "Requirement already satisfied: transformers<5.0.0,>=4.6.0 in c:\\users\\pavan\\anaconda3\\lib\\site-packages (from sentence-transformers) (4.32.1)\n",
      "Requirement already satisfied: tqdm in c:\\users\\pavan\\anaconda3\\lib\\site-packages (from sentence-transformers) (4.65.0)\n",
      "Collecting torch>=1.6.0 (from sentence-transformers)\n",
      "  Obtaining dependency information for torch>=1.6.0 from https://files.pythonhosted.org/packages/e4/ae/2ad8820045b6631965750435f28583e80905b8273d57cf026163b51323ee/torch-2.1.2-cp311-cp311-win_amd64.whl.metadata\n",
      "  Downloading torch-2.1.2-cp311-cp311-win_amd64.whl.metadata (26 kB)\n",
      "Collecting torchvision (from sentence-transformers)\n",
      "  Obtaining dependency information for torchvision from https://files.pythonhosted.org/packages/f9/e6/3c821e7417acd82df89e39f09156ce80d58817b5b4b1ac5453b522bc5dd4/torchvision-0.16.2-cp311-cp311-win_amd64.whl.metadata\n",
      "  Downloading torchvision-0.16.2-cp311-cp311-win_amd64.whl.metadata (6.6 kB)\n",
      "Requirement already satisfied: numpy in c:\\users\\pavan\\anaconda3\\lib\\site-packages (from sentence-transformers) (1.24.3)\n",
      "Requirement already satisfied: scikit-learn in c:\\users\\pavan\\anaconda3\\lib\\site-packages (from sentence-transformers) (1.3.0)\n",
      "Requirement already satisfied: scipy in c:\\users\\pavan\\anaconda3\\lib\\site-packages (from sentence-transformers) (1.11.1)\n",
      "Requirement already satisfied: nltk in c:\\users\\pavan\\anaconda3\\lib\\site-packages (from sentence-transformers) (3.8.1)\n",
      "Collecting sentencepiece (from sentence-transformers)\n",
      "  Downloading sentencepiece-0.1.99-cp311-cp311-win_amd64.whl (977 kB)\n",
      "     ---------------------------------------- 0.0/977.5 kB ? eta -:--:--\n",
      "     --------- ---------------------------- 245.8/977.5 kB 7.4 MB/s eta 0:00:01\n",
      "     ------------------------------------  972.8/977.5 kB 12.2 MB/s eta 0:00:01\n",
      "     ------------------------------------- 977.5/977.5 kB 10.3 MB/s eta 0:00:00\n",
      "Requirement already satisfied: huggingface-hub>=0.4.0 in c:\\users\\pavan\\anaconda3\\lib\\site-packages (from sentence-transformers) (0.15.1)\n",
      "Requirement already satisfied: filelock in c:\\users\\pavan\\anaconda3\\lib\\site-packages (from huggingface-hub>=0.4.0->sentence-transformers) (3.9.0)\n",
      "Requirement already satisfied: fsspec in c:\\users\\pavan\\anaconda3\\lib\\site-packages (from huggingface-hub>=0.4.0->sentence-transformers) (2023.4.0)\n",
      "Requirement already satisfied: requests in c:\\users\\pavan\\anaconda3\\lib\\site-packages (from huggingface-hub>=0.4.0->sentence-transformers) (2.31.0)\n",
      "Requirement already satisfied: pyyaml>=5.1 in c:\\users\\pavan\\anaconda3\\lib\\site-packages (from huggingface-hub>=0.4.0->sentence-transformers) (6.0)\n",
      "Requirement already satisfied: typing-extensions>=3.7.4.3 in c:\\users\\pavan\\anaconda3\\lib\\site-packages (from huggingface-hub>=0.4.0->sentence-transformers) (4.7.1)\n",
      "Requirement already satisfied: packaging>=20.9 in c:\\users\\pavan\\anaconda3\\lib\\site-packages (from huggingface-hub>=0.4.0->sentence-transformers) (23.1)\n",
      "Requirement already satisfied: sympy in c:\\users\\pavan\\anaconda3\\lib\\site-packages (from torch>=1.6.0->sentence-transformers) (1.11.1)\n",
      "Requirement already satisfied: networkx in c:\\users\\pavan\\anaconda3\\lib\\site-packages (from torch>=1.6.0->sentence-transformers) (3.1)\n",
      "Requirement already satisfied: jinja2 in c:\\users\\pavan\\anaconda3\\lib\\site-packages (from torch>=1.6.0->sentence-transformers) (3.1.2)\n",
      "Requirement already satisfied: colorama in c:\\users\\pavan\\anaconda3\\lib\\site-packages (from tqdm->sentence-transformers) (0.4.6)\n",
      "Requirement already satisfied: regex!=2019.12.17 in c:\\users\\pavan\\anaconda3\\lib\\site-packages (from transformers<5.0.0,>=4.6.0->sentence-transformers) (2022.7.9)\n",
      "Requirement already satisfied: tokenizers!=0.11.3,<0.14,>=0.11.1 in c:\\users\\pavan\\anaconda3\\lib\\site-packages (from transformers<5.0.0,>=4.6.0->sentence-transformers) (0.13.2)\n",
      "Requirement already satisfied: safetensors>=0.3.1 in c:\\users\\pavan\\anaconda3\\lib\\site-packages (from transformers<5.0.0,>=4.6.0->sentence-transformers) (0.3.2)\n",
      "Requirement already satisfied: click in c:\\users\\pavan\\anaconda3\\lib\\site-packages (from nltk->sentence-transformers) (8.0.4)\n",
      "Requirement already satisfied: joblib in c:\\users\\pavan\\anaconda3\\lib\\site-packages (from nltk->sentence-transformers) (1.2.0)\n",
      "Requirement already satisfied: threadpoolctl>=2.0.0 in c:\\users\\pavan\\anaconda3\\lib\\site-packages (from scikit-learn->sentence-transformers) (2.2.0)\n",
      "Requirement already satisfied: pillow!=8.3.*,>=5.3.0 in c:\\users\\pavan\\anaconda3\\lib\\site-packages (from torchvision->sentence-transformers) (10.0.1)\n",
      "Requirement already satisfied: MarkupSafe>=2.0 in c:\\users\\pavan\\anaconda3\\lib\\site-packages (from jinja2->torch>=1.6.0->sentence-transformers) (2.1.1)\n",
      "Requirement already satisfied: charset-normalizer<4,>=2 in c:\\users\\pavan\\anaconda3\\lib\\site-packages (from requests->huggingface-hub>=0.4.0->sentence-transformers) (2.0.4)\n",
      "Requirement already satisfied: idna<4,>=2.5 in c:\\users\\pavan\\anaconda3\\lib\\site-packages (from requests->huggingface-hub>=0.4.0->sentence-transformers) (3.4)\n",
      "Requirement already satisfied: urllib3<3,>=1.21.1 in c:\\users\\pavan\\anaconda3\\lib\\site-packages (from requests->huggingface-hub>=0.4.0->sentence-transformers) (1.26.16)\n",
      "Requirement already satisfied: certifi>=2017.4.17 in c:\\users\\pavan\\anaconda3\\lib\\site-packages (from requests->huggingface-hub>=0.4.0->sentence-transformers) (2023.11.17)\n",
      "Requirement already satisfied: mpmath>=0.19 in c:\\users\\pavan\\anaconda3\\lib\\site-packages (from sympy->torch>=1.6.0->sentence-transformers) (1.3.0)\n",
      "Downloading torch-2.1.2-cp311-cp311-win_amd64.whl (192.3 MB)\n",
      "   ---------------------------------------- 0.0/192.3 MB ? eta -:--:--\n",
      "   ---------------------------------------- 2.2/192.3 MB 68.2 MB/s eta 0:00:03\n",
      "    --------------------------------------- 3.9/192.3 MB 62.3 MB/s eta 0:00:04\n",
      "   - -------------------------------------- 6.9/192.3 MB 62.7 MB/s eta 0:00:03\n",
      "   - -------------------------------------- 8.2/192.3 MB 57.8 MB/s eta 0:00:04\n",
      "   - -------------------------------------- 9.2/192.3 MB 41.9 MB/s eta 0:00:05\n",
      "   -- ------------------------------------- 14.2/192.3 MB 54.4 MB/s eta 0:00:04\n",
      "   --- ------------------------------------ 16.6/192.3 MB 54.7 MB/s eta 0:00:04\n",
      "   --- ------------------------------------ 17.1/192.3 MB 40.9 MB/s eta 0:00:05\n",
      "   ---- ----------------------------------- 19.8/192.3 MB 54.4 MB/s eta 0:00:04\n",
      "   ----- ---------------------------------- 24.6/192.3 MB 54.7 MB/s eta 0:00:04\n",
      "   ----- ---------------------------------- 27.7/192.3 MB 81.8 MB/s eta 0:00:03\n",
      "   ----- ---------------------------------- 28.8/192.3 MB 81.8 MB/s eta 0:00:02\n",
      "   ------ --------------------------------- 29.8/192.3 MB 54.7 MB/s eta 0:00:03\n",
      "   ------ --------------------------------- 33.4/192.3 MB 50.4 MB/s eta 0:00:04\n",
      "   ------- -------------------------------- 35.8/192.3 MB 50.4 MB/s eta 0:00:04\n",
      "   ------- -------------------------------- 37.0/192.3 MB 43.7 MB/s eta 0:00:04\n",
      "   -------- ------------------------------- 40.3/192.3 MB 54.4 MB/s eta 0:00:03\n",
      "   -------- ------------------------------- 43.2/192.3 MB 50.4 MB/s eta 0:00:03\n",
      "   --------- ------------------------------ 45.8/192.3 MB 54.4 MB/s eta 0:00:03\n",
      "   ---------- ----------------------------- 48.9/192.3 MB 59.5 MB/s eta 0:00:03\n",
      "   ---------- ----------------------------- 52.2/192.3 MB 59.5 MB/s eta 0:00:03\n",
      "   ----------- ---------------------------- 54.2/192.3 MB 59.5 MB/s eta 0:00:03\n",
      "   ----------- ---------------------------- 56.2/192.3 MB 65.2 MB/s eta 0:00:03\n",
      "   ----------- ---------------------------- 56.6/192.3 MB 46.7 MB/s eta 0:00:03\n",
      "   ------------ --------------------------- 61.7/192.3 MB 54.4 MB/s eta 0:00:03\n",
      "   ------------- -------------------------- 64.3/192.3 MB 50.4 MB/s eta 0:00:03\n",
      "   ------------- -------------------------- 66.4/192.3 MB 54.7 MB/s eta 0:00:03\n",
      "   -------------- ------------------------- 68.7/192.3 MB 59.5 MB/s eta 0:00:03\n",
      "   -------------- ------------------------- 71.8/192.3 MB 54.7 MB/s eta 0:00:03\n",
      "   --------------- ------------------------ 74.8/192.3 MB 54.7 MB/s eta 0:00:03\n",
      "   ---------------- ----------------------- 78.0/192.3 MB 65.6 MB/s eta 0:00:02\n",
      "   ---------------- ----------------------- 80.5/192.3 MB 65.6 MB/s eta 0:00:02\n",
      "   ----------------- ---------------------- 83.5/192.3 MB 65.6 MB/s eta 0:00:02\n",
      "   ------------------ --------------------- 86.9/192.3 MB 65.6 MB/s eta 0:00:02\n",
      "   ------------------ --------------------- 89.0/192.3 MB 65.6 MB/s eta 0:00:02\n",
      "   ------------------- -------------------- 92.3/192.3 MB 65.6 MB/s eta 0:00:02\n",
      "   ------------------- -------------------- 95.3/192.3 MB 65.6 MB/s eta 0:00:02\n",
      "   -------------------- ------------------- 97.6/192.3 MB 54.7 MB/s eta 0:00:02\n",
      "   -------------------- ------------------- 99.4/192.3 MB 59.5 MB/s eta 0:00:02\n",
      "   -------------------- ------------------ 100.6/192.3 MB 54.4 MB/s eta 0:00:02\n",
      "   -------------------- ------------------ 102.9/192.3 MB 54.7 MB/s eta 0:00:02\n",
      "   --------------------- ----------------- 106.0/192.3 MB 50.1 MB/s eta 0:00:02\n",
      "   ---------------------- ---------------- 108.8/192.3 MB 54.7 MB/s eta 0:00:02\n",
      "   ---------------------- ---------------- 111.3/192.3 MB 59.5 MB/s eta 0:00:02\n",
      "   ----------------------- --------------- 114.1/192.3 MB 59.5 MB/s eta 0:00:02\n",
      "   ----------------------- --------------- 117.3/192.3 MB 65.6 MB/s eta 0:00:02\n",
      "   ------------------------ -------------- 120.0/192.3 MB 65.6 MB/s eta 0:00:02\n",
      "   ------------------------ -------------- 122.7/192.3 MB 59.5 MB/s eta 0:00:02\n",
      "   ------------------------- ------------- 125.6/192.3 MB 59.5 MB/s eta 0:00:02\n",
      "   -------------------------- ------------ 129.1/192.3 MB 65.2 MB/s eta 0:00:01\n",
      "   -------------------------- ------------ 131.2/192.3 MB 59.8 MB/s eta 0:00:02\n",
      "   -------------------------- ------------ 133.0/192.3 MB 54.7 MB/s eta 0:00:02\n",
      "   --------------------------- ----------- 135.3/192.3 MB 50.4 MB/s eta 0:00:02\n",
      "   ---------------------------- ---------- 138.6/192.3 MB 50.4 MB/s eta 0:00:02\n",
      "   ---------------------------- ---------- 140.1/192.3 MB 46.7 MB/s eta 0:00:02\n",
      "   ---------------------------- ---------- 140.9/192.3 MB 40.9 MB/s eta 0:00:02\n",
      "   ----------------------------- --------- 143.5/192.3 MB 43.5 MB/s eta 0:00:02\n",
      "   ----------------------------- --------- 144.9/192.3 MB 40.9 MB/s eta 0:00:02\n",
      "   ----------------------------- --------- 146.5/192.3 MB 38.6 MB/s eta 0:00:02\n",
      "   ------------------------------ -------- 148.5/192.3 MB 36.4 MB/s eta 0:00:02\n",
      "   ------------------------------ -------- 150.8/192.3 MB 36.4 MB/s eta 0:00:02\n",
      "   ------------------------------- ------- 153.5/192.3 MB 43.7 MB/s eta 0:00:01\n",
      "   ------------------------------- ------- 156.0/192.3 MB 46.7 MB/s eta 0:00:01\n",
      "   ------------------------------- ------- 157.6/192.3 MB 50.4 MB/s eta 0:00:01\n",
      "   -------------------------------- ------ 160.2/192.3 MB 46.9 MB/s eta 0:00:01\n",
      "   --------------------------------- ----- 163.0/192.3 MB 46.7 MB/s eta 0:00:01\n",
      "   --------------------------------- ----- 165.6/192.3 MB 50.4 MB/s eta 0:00:01\n",
      "   ---------------------------------- ---- 168.4/192.3 MB 54.4 MB/s eta 0:00:01\n",
      "   ---------------------------------- ---- 170.5/192.3 MB 54.4 MB/s eta 0:00:01\n",
      "   ---------------------------------- ---- 172.5/192.3 MB 50.4 MB/s eta 0:00:01\n",
      "   ----------------------------------- --- 174.7/192.3 MB 54.4 MB/s eta 0:00:01\n",
      "   ----------------------------------- --- 176.9/192.3 MB 50.4 MB/s eta 0:00:01\n",
      "   ----------------------------------- --- 177.2/192.3 MB 54.4 MB/s eta 0:00:01\n",
      "   ----------------------------------- --- 177.2/192.3 MB 54.4 MB/s eta 0:00:01\n",
      "   ----------------------------------- --- 177.2/192.3 MB 54.4 MB/s eta 0:00:01\n",
      "   ------------------------------------ -- 178.7/192.3 MB 29.8 MB/s eta 0:00:01\n",
      "   ------------------------------------ -- 181.3/192.3 MB 29.7 MB/s eta 0:00:01\n",
      "   ------------------------------------- - 184.2/192.3 MB 29.7 MB/s eta 0:00:01\n",
      "   ------------------------------------- - 186.6/192.3 MB 31.2 MB/s eta 0:00:01\n",
      "   --------------------------------------  188.6/192.3 MB 54.4 MB/s eta 0:00:01\n",
      "   --------------------------------------  190.6/192.3 MB 50.4 MB/s eta 0:00:01\n",
      "   --------------------------------------  192.3/192.3 MB 50.4 MB/s eta 0:00:01\n",
      "   --------------------------------------  192.3/192.3 MB 50.4 MB/s eta 0:00:01\n",
      "   --------------------------------------  192.3/192.3 MB 50.4 MB/s eta 0:00:01\n",
      "   --------------------------------------  192.3/192.3 MB 50.4 MB/s eta 0:00:01\n",
      "   --------------------------------------  192.3/192.3 MB 50.4 MB/s eta 0:00:01\n",
      "   --------------------------------------  192.3/192.3 MB 50.4 MB/s eta 0:00:01\n",
      "   --------------------------------------  192.3/192.3 MB 50.4 MB/s eta 0:00:01\n",
      "   --------------------------------------  192.3/192.3 MB 50.4 MB/s eta 0:00:01\n",
      "   --------------------------------------  192.3/192.3 MB 50.4 MB/s eta 0:00:01\n",
      "   --------------------------------------  192.3/192.3 MB 50.4 MB/s eta 0:00:01\n",
      "   --------------------------------------- 192.3/192.3 MB 12.4 MB/s eta 0:00:00\n",
      "Downloading torchvision-0.16.2-cp311-cp311-win_amd64.whl (1.1 MB)\n",
      "   ---------------------------------------- 0.0/1.1 MB ? eta -:--:--\n",
      "   ---------------------------------------- 1.1/1.1 MB 70.5 MB/s eta 0:00:00\n",
      "Building wheels for collected packages: sentence-transformers\n",
      "  Building wheel for sentence-transformers (setup.py): started\n",
      "  Building wheel for sentence-transformers (setup.py): finished with status 'done'\n",
      "  Created wheel for sentence-transformers: filename=sentence_transformers-2.2.2-py3-none-any.whl size=125960 sha256=f26b0e0209da1f2691b7fd0a44eed579fb107a42d1701334859c631544c94b10\n",
      "  Stored in directory: c:\\users\\pavan\\appdata\\local\\pip\\cache\\wheels\\ff\\27\\bf\\ffba8b318b02d7f691a57084ee154e26ed24d012b0c7805881\n",
      "Successfully built sentence-transformers\n",
      "Installing collected packages: sentencepiece, torch, torchvision, sentence-transformers\n",
      "Successfully installed sentence-transformers-2.2.2 sentencepiece-0.1.99 torch-2.1.2 torchvision-0.16.2\n"
     ]
    }
   ],
   "source": [
    "!pip install faiss-cpu\n",
    "!pip install sentence-transformers"
   ]
  },
  {
   "cell_type": "code",
   "execution_count": 2,
   "id": "6d1ef62e",
   "metadata": {},
   "outputs": [],
   "source": [
    "import pandas as pd"
   ]
  },
  {
   "cell_type": "code",
   "execution_count": 3,
   "id": "54fc7f45",
   "metadata": {},
   "outputs": [
    {
     "data": {
      "text/plain": [
       "(8, 2)"
      ]
     },
     "execution_count": 3,
     "metadata": {},
     "output_type": "execute_result"
    }
   ],
   "source": [
    "df = pd.read_csv(\"sample_text.csv\")\n",
    "df.shape"
   ]
  },
  {
   "cell_type": "code",
   "execution_count": 5,
   "id": "cdbb3892",
   "metadata": {},
   "outputs": [
    {
     "data": {
      "text/html": [
       "<div>\n",
       "<style scoped>\n",
       "    .dataframe tbody tr th:only-of-type {\n",
       "        vertical-align: middle;\n",
       "    }\n",
       "\n",
       "    .dataframe tbody tr th {\n",
       "        vertical-align: top;\n",
       "    }\n",
       "\n",
       "    .dataframe thead th {\n",
       "        text-align: right;\n",
       "    }\n",
       "</style>\n",
       "<table border=\"1\" class=\"dataframe\">\n",
       "  <thead>\n",
       "    <tr style=\"text-align: right;\">\n",
       "      <th></th>\n",
       "      <th>text</th>\n",
       "      <th>category</th>\n",
       "    </tr>\n",
       "  </thead>\n",
       "  <tbody>\n",
       "    <tr>\n",
       "      <th>0</th>\n",
       "      <td>Meditation and yoga can improve mental health</td>\n",
       "      <td>Health</td>\n",
       "    </tr>\n",
       "    <tr>\n",
       "      <th>1</th>\n",
       "      <td>Fruits, whole grains and vegetables helps cont...</td>\n",
       "      <td>Health</td>\n",
       "    </tr>\n",
       "    <tr>\n",
       "      <th>2</th>\n",
       "      <td>These are the latest fashion trends for this week</td>\n",
       "      <td>Fashion</td>\n",
       "    </tr>\n",
       "    <tr>\n",
       "      <th>3</th>\n",
       "      <td>Vibrant color jeans for male are becoming a trend</td>\n",
       "      <td>Fashion</td>\n",
       "    </tr>\n",
       "    <tr>\n",
       "      <th>4</th>\n",
       "      <td>The concert starts at 7 PM tonight</td>\n",
       "      <td>Event</td>\n",
       "    </tr>\n",
       "    <tr>\n",
       "      <th>5</th>\n",
       "      <td>Navaratri dandiya program at Expo center in Mu...</td>\n",
       "      <td>Event</td>\n",
       "    </tr>\n",
       "    <tr>\n",
       "      <th>6</th>\n",
       "      <td>Exciting vacation destinations for your next trip</td>\n",
       "      <td>Travel</td>\n",
       "    </tr>\n",
       "    <tr>\n",
       "      <th>7</th>\n",
       "      <td>Maldives and Srilanka are gaining popularity i...</td>\n",
       "      <td>Travel</td>\n",
       "    </tr>\n",
       "  </tbody>\n",
       "</table>\n",
       "</div>"
      ],
      "text/plain": [
       "                                                text category\n",
       "0      Meditation and yoga can improve mental health   Health\n",
       "1  Fruits, whole grains and vegetables helps cont...   Health\n",
       "2  These are the latest fashion trends for this week  Fashion\n",
       "3  Vibrant color jeans for male are becoming a trend  Fashion\n",
       "4                 The concert starts at 7 PM tonight    Event\n",
       "5  Navaratri dandiya program at Expo center in Mu...    Event\n",
       "6  Exciting vacation destinations for your next trip   Travel\n",
       "7  Maldives and Srilanka are gaining popularity i...   Travel"
      ]
     },
     "execution_count": 5,
     "metadata": {},
     "output_type": "execute_result"
    }
   ],
   "source": [
    "df"
   ]
  },
  {
   "cell_type": "code",
   "execution_count": 6,
   "id": "b75605c0",
   "metadata": {},
   "outputs": [],
   "source": [
    "pd.set_option('display.max_colwidth', 150)"
   ]
  },
  {
   "cell_type": "code",
   "execution_count": 7,
   "id": "ca0fd230",
   "metadata": {},
   "outputs": [
    {
     "data": {
      "text/html": [
       "<div>\n",
       "<style scoped>\n",
       "    .dataframe tbody tr th:only-of-type {\n",
       "        vertical-align: middle;\n",
       "    }\n",
       "\n",
       "    .dataframe tbody tr th {\n",
       "        vertical-align: top;\n",
       "    }\n",
       "\n",
       "    .dataframe thead th {\n",
       "        text-align: right;\n",
       "    }\n",
       "</style>\n",
       "<table border=\"1\" class=\"dataframe\">\n",
       "  <thead>\n",
       "    <tr style=\"text-align: right;\">\n",
       "      <th></th>\n",
       "      <th>text</th>\n",
       "      <th>category</th>\n",
       "    </tr>\n",
       "  </thead>\n",
       "  <tbody>\n",
       "    <tr>\n",
       "      <th>0</th>\n",
       "      <td>Meditation and yoga can improve mental health</td>\n",
       "      <td>Health</td>\n",
       "    </tr>\n",
       "    <tr>\n",
       "      <th>1</th>\n",
       "      <td>Fruits, whole grains and vegetables helps control blood pressure</td>\n",
       "      <td>Health</td>\n",
       "    </tr>\n",
       "    <tr>\n",
       "      <th>2</th>\n",
       "      <td>These are the latest fashion trends for this week</td>\n",
       "      <td>Fashion</td>\n",
       "    </tr>\n",
       "    <tr>\n",
       "      <th>3</th>\n",
       "      <td>Vibrant color jeans for male are becoming a trend</td>\n",
       "      <td>Fashion</td>\n",
       "    </tr>\n",
       "    <tr>\n",
       "      <th>4</th>\n",
       "      <td>The concert starts at 7 PM tonight</td>\n",
       "      <td>Event</td>\n",
       "    </tr>\n",
       "    <tr>\n",
       "      <th>5</th>\n",
       "      <td>Navaratri dandiya program at Expo center in Mumbai this october</td>\n",
       "      <td>Event</td>\n",
       "    </tr>\n",
       "    <tr>\n",
       "      <th>6</th>\n",
       "      <td>Exciting vacation destinations for your next trip</td>\n",
       "      <td>Travel</td>\n",
       "    </tr>\n",
       "    <tr>\n",
       "      <th>7</th>\n",
       "      <td>Maldives and Srilanka are gaining popularity in terms of low budget vacation places</td>\n",
       "      <td>Travel</td>\n",
       "    </tr>\n",
       "  </tbody>\n",
       "</table>\n",
       "</div>"
      ],
      "text/plain": [
       "                                                                                  text  \\\n",
       "0                                        Meditation and yoga can improve mental health   \n",
       "1                     Fruits, whole grains and vegetables helps control blood pressure   \n",
       "2                                    These are the latest fashion trends for this week   \n",
       "3                                    Vibrant color jeans for male are becoming a trend   \n",
       "4                                                   The concert starts at 7 PM tonight   \n",
       "5                      Navaratri dandiya program at Expo center in Mumbai this october   \n",
       "6                                    Exciting vacation destinations for your next trip   \n",
       "7  Maldives and Srilanka are gaining popularity in terms of low budget vacation places   \n",
       "\n",
       "  category  \n",
       "0   Health  \n",
       "1   Health  \n",
       "2  Fashion  \n",
       "3  Fashion  \n",
       "4    Event  \n",
       "5    Event  \n",
       "6   Travel  \n",
       "7   Travel  "
      ]
     },
     "execution_count": 7,
     "metadata": {},
     "output_type": "execute_result"
    }
   ],
   "source": [
    "df"
   ]
  },
  {
   "cell_type": "code",
   "execution_count": 10,
   "id": "7e3437d2",
   "metadata": {},
   "outputs": [
    {
     "data": {
      "application/vnd.jupyter.widget-view+json": {
       "model_id": "cddb610d219c4ee2aaaa4254c84b789a",
       "version_major": 2,
       "version_minor": 0
      },
      "text/plain": [
       "Downloading .gitattributes:   0%|          | 0.00/1.18k [00:00<?, ?B/s]"
      ]
     },
     "metadata": {},
     "output_type": "display_data"
    },
    {
     "data": {
      "application/vnd.jupyter.widget-view+json": {
       "model_id": "a5c552389014466e83f2bc0e7aed273a",
       "version_major": 2,
       "version_minor": 0
      },
      "text/plain": [
       "Downloading 1_Pooling/config.json:   0%|          | 0.00/190 [00:00<?, ?B/s]"
      ]
     },
     "metadata": {},
     "output_type": "display_data"
    },
    {
     "data": {
      "application/vnd.jupyter.widget-view+json": {
       "model_id": "d42ac1633ea34866935cac6e109035fe",
       "version_major": 2,
       "version_minor": 0
      },
      "text/plain": [
       "Downloading README.md:   0%|          | 0.00/10.6k [00:00<?, ?B/s]"
      ]
     },
     "metadata": {},
     "output_type": "display_data"
    },
    {
     "data": {
      "application/vnd.jupyter.widget-view+json": {
       "model_id": "c64b2a731a1a466aa7d296685ab1e97a",
       "version_major": 2,
       "version_minor": 0
      },
      "text/plain": [
       "Downloading config.json:   0%|          | 0.00/571 [00:00<?, ?B/s]"
      ]
     },
     "metadata": {},
     "output_type": "display_data"
    },
    {
     "data": {
      "application/vnd.jupyter.widget-view+json": {
       "model_id": "f3fd025de0ef492aa15caca351cb00a9",
       "version_major": 2,
       "version_minor": 0
      },
      "text/plain": [
       "Downloading (…)ce_transformers.json:   0%|          | 0.00/116 [00:00<?, ?B/s]"
      ]
     },
     "metadata": {},
     "output_type": "display_data"
    },
    {
     "data": {
      "application/vnd.jupyter.widget-view+json": {
       "model_id": "f141dde929904b85b503566e92663f19",
       "version_major": 2,
       "version_minor": 0
      },
      "text/plain": [
       "Downloading data_config.json:   0%|          | 0.00/39.3k [00:00<?, ?B/s]"
      ]
     },
     "metadata": {},
     "output_type": "display_data"
    },
    {
     "data": {
      "application/vnd.jupyter.widget-view+json": {
       "model_id": "9ae4b992dd294ce0aa43dbe3382880fe",
       "version_major": 2,
       "version_minor": 0
      },
      "text/plain": [
       "Downloading pytorch_model.bin:   0%|          | 0.00/438M [00:00<?, ?B/s]"
      ]
     },
     "metadata": {},
     "output_type": "display_data"
    },
    {
     "data": {
      "application/vnd.jupyter.widget-view+json": {
       "model_id": "c703ea501d77424eaf7374e417b1151c",
       "version_major": 2,
       "version_minor": 0
      },
      "text/plain": [
       "Downloading (…)nce_bert_config.json:   0%|          | 0.00/53.0 [00:00<?, ?B/s]"
      ]
     },
     "metadata": {},
     "output_type": "display_data"
    },
    {
     "data": {
      "application/vnd.jupyter.widget-view+json": {
       "model_id": "2c62ddf395e84db99c0170501eaf05f1",
       "version_major": 2,
       "version_minor": 0
      },
      "text/plain": [
       "Downloading (…)cial_tokens_map.json:   0%|          | 0.00/239 [00:00<?, ?B/s]"
      ]
     },
     "metadata": {},
     "output_type": "display_data"
    },
    {
     "data": {
      "application/vnd.jupyter.widget-view+json": {
       "model_id": "2591d945b3ab449d958e2c573e19e8fd",
       "version_major": 2,
       "version_minor": 0
      },
      "text/plain": [
       "Downloading tokenizer.json:   0%|          | 0.00/466k [00:00<?, ?B/s]"
      ]
     },
     "metadata": {},
     "output_type": "display_data"
    },
    {
     "data": {
      "application/vnd.jupyter.widget-view+json": {
       "model_id": "b1b63937f47442d1b72fee89cbcff346",
       "version_major": 2,
       "version_minor": 0
      },
      "text/plain": [
       "Downloading tokenizer_config.json:   0%|          | 0.00/363 [00:00<?, ?B/s]"
      ]
     },
     "metadata": {},
     "output_type": "display_data"
    },
    {
     "data": {
      "application/vnd.jupyter.widget-view+json": {
       "model_id": "163474c86a0d434191750c7584b44c38",
       "version_major": 2,
       "version_minor": 0
      },
      "text/plain": [
       "Downloading train_script.py:   0%|          | 0.00/13.1k [00:00<?, ?B/s]"
      ]
     },
     "metadata": {},
     "output_type": "display_data"
    },
    {
     "data": {
      "application/vnd.jupyter.widget-view+json": {
       "model_id": "d352ea93f6b94701ac88499f06296e28",
       "version_major": 2,
       "version_minor": 0
      },
      "text/plain": [
       "Downloading vocab.txt:   0%|          | 0.00/232k [00:00<?, ?B/s]"
      ]
     },
     "metadata": {},
     "output_type": "display_data"
    },
    {
     "data": {
      "application/vnd.jupyter.widget-view+json": {
       "model_id": "ab1e9e4f93274416baa332dbad6a180e",
       "version_major": 2,
       "version_minor": 0
      },
      "text/plain": [
       "Downloading modules.json:   0%|          | 0.00/349 [00:00<?, ?B/s]"
      ]
     },
     "metadata": {},
     "output_type": "display_data"
    },
    {
     "data": {
      "text/plain": [
       "(8, 768)"
      ]
     },
     "execution_count": 10,
     "metadata": {},
     "output_type": "execute_result"
    }
   ],
   "source": [
    "from sentence_transformers import SentenceTransformer\n",
    "\n",
    "encoder = SentenceTransformer(\"all-mpnet-base-v2\")\n",
    "vectors = encoder.encode(df.text)\n",
    "vectors.shape"
   ]
  },
  {
   "cell_type": "code",
   "execution_count": 14,
   "id": "c6ed5ff2",
   "metadata": {},
   "outputs": [
    {
     "data": {
      "text/plain": [
       "768"
      ]
     },
     "execution_count": 14,
     "metadata": {},
     "output_type": "execute_result"
    }
   ],
   "source": [
    "\n",
    "dim = vectors.shape[1]\n",
    "dim"
   ]
  },
  {
   "cell_type": "code",
   "execution_count": 17,
   "id": "c240042b",
   "metadata": {},
   "outputs": [
    {
     "data": {
      "text/plain": [
       "768"
      ]
     },
     "execution_count": 17,
     "metadata": {},
     "output_type": "execute_result"
    }
   ],
   "source": [
    "len(vectors[0])"
   ]
  },
  {
   "cell_type": "code",
   "execution_count": 18,
   "id": "6a7b92c3",
   "metadata": {},
   "outputs": [
    {
     "data": {
      "text/plain": [
       "<faiss.swigfaiss.IndexFlatL2; proxy of <Swig Object of type 'faiss::IndexFlatL2 *' at 0x00000217100C0750> >"
      ]
     },
     "execution_count": 18,
     "metadata": {},
     "output_type": "execute_result"
    }
   ],
   "source": [
    "import faiss\n",
    "\n",
    "index = faiss.IndexFlatL2(dim)\n",
    "index"
   ]
  },
  {
   "cell_type": "code",
   "execution_count": 19,
   "id": "7ba5a4bc",
   "metadata": {},
   "outputs": [],
   "source": [
    "index.add(vectors)"
   ]
  },
  {
   "cell_type": "code",
   "execution_count": 20,
   "id": "5795cb97",
   "metadata": {},
   "outputs": [
    {
     "data": {
      "text/plain": [
       "array([-4.30003880e-03, -1.37609961e-02,  1.45097985e-03, -9.77442600e-03,\n",
       "        1.78051274e-02, -4.14328575e-02, -1.76941343e-02,  1.27178095e-02,\n",
       "       -3.80050912e-02,  2.77981739e-02,  2.48092413e-02, -2.10390314e-02,\n",
       "        1.27720814e-02,  5.35553657e-02,  1.94110796e-02,  1.71707664e-02,\n",
       "        1.43162198e-02, -1.92998126e-02,  3.72407325e-02,  6.64373906e-03,\n",
       "        1.16154002e-02,  6.49142824e-03,  2.85902247e-02,  3.99973243e-02,\n",
       "       -3.26725133e-02, -5.32477722e-02, -6.95127575e-03,  3.37332822e-02,\n",
       "       -2.52517946e-02, -4.76373173e-02,  2.79786941e-02,  1.43769244e-02,\n",
       "        2.90460233e-02, -1.24030188e-01,  1.54010104e-06, -5.23567433e-03,\n",
       "       -2.51353998e-02, -4.64021079e-02, -6.51722252e-02, -3.07650100e-02,\n",
       "       -5.01030423e-02,  3.44599858e-02, -2.15048697e-02,  4.77749947e-03,\n",
       "        2.04645675e-02, -2.43165698e-02,  3.90629619e-02,  1.23968460e-01,\n",
       "       -1.22006387e-01,  4.77076881e-02, -2.12412165e-03,  1.32202422e-02,\n",
       "       -2.56591272e-02, -1.02081886e-02, -2.04061605e-02, -5.12254797e-02,\n",
       "        2.04092320e-02, -5.63750453e-02,  9.50637273e-03,  3.06096599e-02,\n",
       "        4.33657616e-02, -3.35447714e-02, -1.92457270e-02,  1.28969857e-02,\n",
       "        6.86379299e-02,  1.95158813e-02,  5.64125590e-02, -1.16172889e-02,\n",
       "        1.07513298e-03, -6.17215373e-02, -1.17724827e-02, -2.07838621e-02,\n",
       "       -2.75976527e-02,  3.49406078e-02,  9.49634518e-03, -5.86163960e-02,\n",
       "        1.03351222e-02, -4.24065664e-02,  2.83137783e-02,  4.07841541e-02,\n",
       "       -5.42614027e-04,  3.81554328e-02, -1.71584589e-03,  9.14473161e-02,\n",
       "        1.35341510e-02,  2.88987961e-02, -2.11420562e-03, -1.30126625e-03,\n",
       "       -4.45325524e-02,  3.06618288e-02, -6.31526858e-02, -9.90562327e-03,\n",
       "       -3.67141739e-02, -1.55323837e-02, -8.56788009e-02, -3.15058678e-02,\n",
       "        4.46892455e-02,  2.19091643e-02,  7.21810013e-03, -3.88492979e-02,\n",
       "        1.96107756e-02,  3.00937146e-02,  6.67462200e-02, -5.89882350e-03,\n",
       "        2.18220335e-02,  4.66969647e-02, -5.39174676e-02, -1.86333284e-02,\n",
       "       -8.36524293e-02,  8.45690351e-03,  5.36843166e-02, -9.73281625e-04,\n",
       "       -3.43170501e-02,  7.37410039e-02,  5.68381185e-03, -9.64886621e-02,\n",
       "        4.45823222e-02, -1.67666879e-02,  5.38420603e-02, -3.61235393e-03,\n",
       "       -3.08368588e-03, -1.24730999e-02, -6.00295030e-02, -1.21699311e-02,\n",
       "        2.31103878e-02, -1.61052588e-02, -7.79596269e-02,  5.64227365e-02,\n",
       "        8.02285969e-04,  2.58886870e-02, -3.93054150e-02, -1.53880725e-02,\n",
       "        1.73961353e-02, -4.80932146e-02, -1.82283260e-02,  6.81953272e-04,\n",
       "       -3.99384052e-02,  4.64606937e-03, -1.15537615e-02, -6.53839111e-02,\n",
       "        3.92729267e-02,  2.27630185e-03,  8.56142864e-02,  1.95015520e-02,\n",
       "       -1.93796884e-02, -3.16044725e-02,  3.53787988e-02, -1.48967584e-03,\n",
       "        1.32129192e-02, -1.30787026e-02,  1.18642747e-02, -2.97672190e-02,\n",
       "        3.63361798e-02, -9.09361988e-03, -5.95663935e-02, -8.71668477e-03,\n",
       "        2.40668003e-03,  2.07956787e-02, -2.19657551e-03,  3.59398648e-02,\n",
       "        1.10761670e-03,  3.66138443e-02, -7.18504861e-02,  3.79541889e-02,\n",
       "       -1.63456853e-02, -2.94495225e-02, -8.30463395e-02, -1.28388535e-02,\n",
       "        7.10124895e-02,  1.82888899e-02, -2.15449147e-02, -2.57800277e-02,\n",
       "       -2.44342647e-02,  7.46004097e-03,  5.82295246e-02, -5.03133200e-02,\n",
       "        3.10154855e-02, -2.63261572e-02, -3.46539877e-02, -2.37377156e-02,\n",
       "       -8.45655054e-02, -2.60653216e-02, -2.70397719e-02,  1.43289855e-02,\n",
       "       -6.19853009e-03,  8.35447572e-04, -4.99372110e-02, -2.36015022e-02,\n",
       "       -3.95353548e-02,  5.75009221e-03,  6.92789070e-03, -5.75145148e-02,\n",
       "       -2.04225909e-02, -5.78659177e-02,  2.04779021e-02,  2.26565334e-03,\n",
       "       -7.24648088e-02, -6.59509702e-03, -2.52149068e-02,  1.13603966e-02,\n",
       "       -1.31225567e-02, -1.73068251e-02, -1.37931323e-02,  9.93871465e-02,\n",
       "       -1.04217092e-02, -1.13078542e-02,  3.06323227e-02, -6.46722596e-03,\n",
       "        1.08928941e-02,  4.78002802e-02,  2.50663236e-02,  2.75120586e-02,\n",
       "       -2.23897062e-02, -2.54368149e-02, -2.64930911e-03, -1.59401912e-02,\n",
       "        1.62559059e-02,  3.57039832e-02,  5.03200516e-02,  2.59013455e-02,\n",
       "       -4.11867388e-02,  3.11704464e-02,  8.84767100e-02, -1.47068910e-02,\n",
       "        3.04578785e-02, -2.98909154e-02,  4.71601337e-02,  1.15203690e-02,\n",
       "       -1.46332635e-02,  3.75612900e-02,  2.31595198e-03,  2.44524889e-03,\n",
       "        4.96711098e-02, -2.20736768e-03, -4.96826246e-02,  6.64544106e-02,\n",
       "       -5.20879813e-02, -6.13454953e-02, -1.72749441e-02, -4.96002398e-02,\n",
       "        8.72073637e-04, -1.91946309e-02, -1.68200675e-02, -1.44179752e-02,\n",
       "        9.72941704e-03,  1.50710689e-02,  6.01137523e-04, -2.38799136e-02,\n",
       "       -2.44483985e-02, -1.54846543e-02, -1.78314224e-02,  3.72952521e-02,\n",
       "        1.42371180e-02, -2.76982300e-02, -1.76162757e-02, -3.45673114e-02,\n",
       "       -5.45151010e-02,  1.89681388e-02, -5.20311669e-02, -2.23951172e-02,\n",
       "        3.80678698e-02, -3.24368738e-02,  1.31458044e-02,  2.79301386e-02,\n",
       "        5.62879257e-02, -3.11144292e-02, -3.22953276e-02, -1.78822707e-02,\n",
       "        5.55932941e-03,  4.00894694e-03, -4.00913274e-03, -5.68272211e-02,\n",
       "        2.70117428e-02, -1.10504115e-02, -1.83039103e-02,  1.34121832e-02,\n",
       "        4.45737727e-02, -3.95995528e-02, -1.17611112e-02,  1.84350628e-02,\n",
       "        3.23456922e-03,  3.23815607e-02, -1.26229860e-02, -1.65972300e-02,\n",
       "       -1.28796054e-02,  1.63951106e-02, -1.31290769e-02,  2.30475552e-02,\n",
       "       -6.46406272e-03,  5.70216961e-02,  1.56698155e-03,  2.96048895e-02,\n",
       "        2.19166614e-02,  2.58532725e-03,  5.25974371e-02,  2.33770926e-02,\n",
       "        8.45504832e-03, -2.34144609e-02,  4.33482006e-02, -7.33267069e-02,\n",
       "       -5.15677594e-02, -9.81162395e-03,  1.29550230e-02,  1.95047464e-02,\n",
       "       -3.06182038e-02, -1.56815499e-02, -1.84314623e-02, -2.31602415e-02,\n",
       "        7.41639547e-03,  5.26021831e-02,  8.36183969e-03,  3.39766517e-02,\n",
       "       -4.97494489e-02, -6.41487241e-02, -4.95451875e-03,  7.98846968e-03,\n",
       "        3.87027714e-04,  5.42370379e-02, -2.27601882e-02,  5.14886230e-02,\n",
       "        3.92494239e-02,  1.45397745e-02, -1.47271510e-02,  3.29567702e-03,\n",
       "       -7.20688957e-04, -8.87497980e-03, -5.91843098e-04,  3.97992730e-02,\n",
       "       -3.19977337e-03, -2.75472794e-02, -1.30413501e-02,  9.81746428e-03,\n",
       "       -1.99943241e-02, -5.80028445e-02,  2.75510680e-02, -6.19795658e-02,\n",
       "       -1.48181021e-02, -4.10938822e-02, -1.93164330e-02,  3.91369201e-02,\n",
       "        3.14636193e-02, -5.48167601e-02, -1.72530245e-02, -6.27194345e-02,\n",
       "       -8.65380317e-02, -4.37572524e-02,  1.70759466e-02,  6.06596954e-02,\n",
       "       -9.20715854e-02, -1.55602535e-02, -6.75257593e-02, -5.07728681e-02,\n",
       "        2.19491441e-02, -4.11780290e-02,  1.56353172e-02,  3.43314633e-02,\n",
       "       -1.73388850e-02,  1.58473905e-02, -1.69676244e-02,  2.23121513e-02,\n",
       "        4.98118671e-03,  2.26911646e-03,  7.53790364e-02,  4.78029847e-02,\n",
       "        4.53921687e-03, -5.00179902e-02,  1.27074756e-02,  2.23189667e-02,\n",
       "       -5.35426773e-02, -7.30630103e-03,  2.78254468e-02,  3.36035453e-02,\n",
       "        2.63899863e-02,  3.15102078e-02, -2.47211829e-02,  4.82023060e-02,\n",
       "        7.02513289e-03,  4.67619710e-02,  8.33384618e-02, -1.77356973e-02,\n",
       "        1.25042452e-02, -3.63534242e-02, -2.53355186e-02,  7.41450861e-02,\n",
       "        1.90640353e-02, -6.68349164e-03,  3.06443218e-02, -1.77136939e-02,\n",
       "       -1.13595556e-02, -3.87174003e-02,  7.46137742e-03,  3.98177169e-02,\n",
       "        3.54593992e-02,  4.54219840e-02,  6.10381365e-03,  4.82539274e-02,\n",
       "       -2.54046693e-02,  1.18420515e-02,  8.45921785e-03, -2.58660726e-02,\n",
       "        1.96925588e-02,  6.18995316e-02,  9.83500015e-03,  5.85079901e-02,\n",
       "        7.83625096e-02, -2.85545527e-03,  2.85764188e-02,  2.11853720e-02,\n",
       "       -2.71093510e-02, -2.31303051e-02, -4.03223746e-02,  3.24825421e-02,\n",
       "        1.65670384e-02,  1.88406501e-02,  1.48266312e-02, -2.33396795e-02,\n",
       "        6.86704367e-03, -1.22658974e-02,  4.86615449e-02, -5.45247421e-02,\n",
       "       -4.35219370e-02, -9.76061099e-04, -1.23641919e-02, -2.44720336e-02,\n",
       "       -3.93115263e-03,  4.37308056e-03,  9.54676978e-03, -3.24669033e-02,\n",
       "        1.20944111e-03, -3.62032466e-02, -4.74119596e-02,  3.27487104e-02,\n",
       "       -6.22124001e-02,  7.23572075e-02, -4.60311845e-02, -3.19529288e-02,\n",
       "       -1.72176678e-02,  4.92959395e-02, -1.34059517e-02,  4.41928506e-02,\n",
       "       -3.49861123e-02,  1.95658999e-03, -7.48728216e-02,  3.46789043e-03,\n",
       "        1.96122099e-02, -3.80114503e-02, -4.25965972e-02, -9.55557451e-03,\n",
       "       -1.97327137e-02, -4.41551879e-02,  2.57546175e-02, -6.29740814e-03,\n",
       "       -2.27190666e-02,  3.89455259e-02, -1.46849025e-02, -1.73440035e-02,\n",
       "        4.51693572e-02,  2.21221615e-03, -1.78351707e-03, -1.09276194e-02,\n",
       "        4.05763723e-02,  2.37706397e-02, -1.96014792e-02, -1.28802424e-03,\n",
       "        6.06547892e-02, -4.10842672e-02,  9.03776735e-02, -1.33432327e-02,\n",
       "        4.21760119e-02, -3.01293144e-03,  2.88200118e-02, -2.32774764e-02,\n",
       "        1.94979962e-02, -1.96112618e-02,  3.85852046e-02, -3.43612321e-02,\n",
       "        7.23277330e-02,  3.73972990e-02,  2.39233654e-02,  2.33808570e-02,\n",
       "        1.03878090e-02,  2.67721228e-02,  2.56256256e-02, -5.74905192e-03,\n",
       "       -2.93628555e-02,  3.34976800e-02,  6.65584430e-02, -3.04667675e-03,\n",
       "       -1.18181761e-02, -4.70614322e-02,  6.24259847e-05,  4.69742008e-02,\n",
       "       -2.20361613e-02, -7.15886578e-02, -1.65118966e-02,  2.38984935e-02,\n",
       "       -2.28710417e-02, -4.29726541e-02,  4.45190333e-02,  6.29456155e-03,\n",
       "       -2.70293821e-02, -1.40203014e-02,  1.88385788e-02,  3.76401655e-02,\n",
       "       -5.48683899e-03, -2.16238033e-02, -1.34111010e-02,  3.61450179e-03,\n",
       "       -1.32303697e-03, -3.66292298e-02,  4.30119364e-03, -4.87611517e-02,\n",
       "        6.23617247e-02, -5.57799526e-02, -1.31542739e-02,  1.03346109e-01,\n",
       "       -8.00134912e-02, -5.21924794e-02,  6.77967793e-04, -4.24170159e-02,\n",
       "        8.30628816e-03, -9.00674798e-03,  2.24724114e-02,  4.07801643e-02,\n",
       "       -3.34526300e-02,  4.84660678e-02, -5.31432852e-02, -2.07435004e-02,\n",
       "       -4.05580588e-02, -2.60228990e-03, -1.56285446e-02, -1.07034594e-02,\n",
       "        4.58114147e-02,  3.92818749e-02, -3.99809219e-02,  2.08095107e-02,\n",
       "        2.58938149e-02, -1.04361344e-02, -2.43107211e-02, -1.00856097e-02,\n",
       "       -5.60766086e-02,  2.73145884e-02,  4.50416952e-02,  2.61016600e-02,\n",
       "        2.49067936e-02,  6.84339879e-03,  2.71491762e-02, -1.15311705e-02,\n",
       "       -3.13409902e-02,  5.28786965e-02,  2.55636498e-02,  1.91146675e-02,\n",
       "       -2.59410893e-03, -4.24747430e-02, -5.27911121e-03, -5.03722545e-33,\n",
       "       -4.84079607e-02,  1.18654827e-02,  5.27526299e-03,  6.47787675e-02,\n",
       "       -4.18272950e-02,  4.70442474e-02, -1.68615188e-02, -3.79537642e-02,\n",
       "        2.35861298e-02, -1.81709360e-02, -2.72234585e-02, -1.24003673e-02,\n",
       "        4.52947896e-03, -2.72580446e-03,  7.25232512e-02, -6.37342036e-02,\n",
       "        4.00491385e-03, -4.05550264e-02,  1.67551246e-02,  3.47110303e-03,\n",
       "        9.28976107e-03,  1.48865394e-02,  5.08593172e-02,  6.27913699e-03,\n",
       "       -1.83375254e-02, -9.84079670e-03, -2.89890878e-02,  2.59704012e-02,\n",
       "        4.59358655e-02,  8.63418635e-03, -3.18315625e-02,  1.32799624e-02,\n",
       "       -1.53675061e-02,  3.60078039e-03,  2.42862049e-02,  5.40679693e-02,\n",
       "        2.86466647e-02, -4.51480262e-02,  4.30298299e-02,  6.83108298e-03,\n",
       "       -2.08076593e-02, -6.65203258e-02, -5.72083853e-02, -1.02037592e-02,\n",
       "       -3.62809189e-02, -8.25116783e-02, -1.39426822e-02,  3.55909280e-02,\n",
       "       -3.81315593e-04,  9.50722210e-03, -7.91690499e-03, -1.77179296e-02,\n",
       "       -9.78804007e-03, -6.51147291e-02,  4.16116789e-02,  8.83345976e-02,\n",
       "        5.39669879e-02,  1.82784889e-02,  1.97899677e-02,  5.27048297e-02,\n",
       "        1.23807183e-02, -5.38493618e-02, -2.71688271e-02, -1.29902102e-02,\n",
       "        2.91257948e-02,  6.48653274e-03,  3.90062369e-02, -3.22060799e-03,\n",
       "        3.73982079e-02, -4.95916121e-02,  3.69353965e-02, -3.65912355e-02,\n",
       "        4.62895073e-03,  6.99205883e-03, -3.52464500e-03, -1.48740374e-02,\n",
       "        4.38972423e-03,  4.27952148e-02,  4.16758768e-02,  7.44657665e-02,\n",
       "        8.46650917e-03,  4.84214649e-02,  4.36593406e-02,  2.39638798e-03,\n",
       "       -1.76759418e-02, -7.83473020e-04, -1.02471849e-02, -5.26873255e-03,\n",
       "       -2.60657142e-03, -1.65520553e-02, -5.58975004e-02, -1.92341004e-02,\n",
       "        1.29727889e-02,  2.88920756e-02, -7.33763650e-02, -3.69216874e-02,\n",
       "        1.86593272e-02, -9.78320371e-03, -2.85711847e-02, -2.50080111e-03,\n",
       "        2.33498905e-02,  2.73176958e-03,  1.67698022e-02, -7.07625272e-03,\n",
       "        7.11048627e-03, -3.60146072e-03,  4.14348431e-02,  4.61175665e-02,\n",
       "        5.11025451e-03,  2.06067902e-03, -3.46603096e-02, -4.81823785e-03,\n",
       "        4.13958216e-03, -9.50261876e-02,  7.20617920e-02,  2.14677751e-02,\n",
       "        8.84898752e-03, -6.36921749e-02,  9.95364320e-03,  2.53055673e-02,\n",
       "        2.77120490e-02, -3.53884548e-02, -1.58514883e-02,  5.63135743e-03,\n",
       "       -1.45566529e-02,  6.15229942e-02, -2.01684493e-03,  5.55588044e-02,\n",
       "       -2.85470989e-02,  1.46258296e-02, -1.07846325e-02,  2.52762381e-02,\n",
       "        2.13479439e-07,  6.82452135e-03,  1.32760722e-02,  2.40816250e-02,\n",
       "        4.51515317e-02, -4.24583592e-02,  5.13856895e-02, -6.54941704e-03,\n",
       "        2.31596157e-02,  2.15047062e-03,  5.54730035e-02,  3.12136933e-02,\n",
       "       -2.68820859e-03, -3.50896362e-03,  8.95872153e-03, -1.74125582e-02,\n",
       "       -6.00151382e-02,  6.70754835e-02, -3.96832041e-02,  5.01901144e-03,\n",
       "       -2.93565728e-02, -2.31781173e-02,  5.83594851e-02,  4.81508300e-02,\n",
       "        2.89159585e-02,  1.03042535e-02,  3.56090367e-02,  1.28372367e-02,\n",
       "       -9.95754749e-02, -2.31991261e-02, -6.36727661e-02,  1.59021951e-02,\n",
       "       -6.30787387e-02, -7.78832333e-03,  1.64240394e-02,  1.18891674e-03,\n",
       "       -4.12197560e-02,  3.43222581e-02,  2.36732396e-03,  3.14838253e-02,\n",
       "        6.84107393e-02, -3.76408473e-02,  1.79453362e-02, -1.88100450e-02,\n",
       "       -4.63824794e-02, -1.34888701e-02, -2.83270292e-02, -7.26060010e-03,\n",
       "        1.58268469e-03, -7.48705715e-02,  4.44507413e-02,  4.35300507e-02,\n",
       "       -5.42045273e-02,  4.32104192e-04, -1.32557703e-02, -1.48370361e-03,\n",
       "        4.61806059e-02,  3.18663865e-02,  2.48599909e-02,  1.80719830e-02,\n",
       "       -3.36991064e-02,  9.70540848e-03,  5.11527695e-02, -3.66316922e-02,\n",
       "        7.54358396e-02, -5.38863167e-02, -1.51996389e-02,  5.90070859e-02,\n",
       "        9.48270317e-35,  2.66467594e-02, -3.88132818e-02,  2.57939938e-03,\n",
       "        5.20680584e-02, -1.02975322e-02,  3.65210301e-03,  7.77255967e-02,\n",
       "        1.58256143e-02, -5.66393277e-03,  3.42249614e-03, -2.49588415e-02],\n",
       "      dtype=float32)"
      ]
     },
     "execution_count": 20,
     "metadata": {},
     "output_type": "execute_result"
    }
   ],
   "source": [
    "search_query = \"I was to buy a polo t-shirt\"\n",
    "\n",
    "vec = encoder.encode(search_query)\n",
    "vec "
   ]
  },
  {
   "cell_type": "code",
   "execution_count": 21,
   "id": "40ef0a00",
   "metadata": {},
   "outputs": [
    {
     "data": {
      "text/plain": [
       "(1, 768)"
      ]
     },
     "execution_count": 21,
     "metadata": {},
     "output_type": "execute_result"
    }
   ],
   "source": [
    "svec.shape"
   ]
  },
  {
   "cell_type": "code",
   "execution_count": 22,
   "id": "7832d54b",
   "metadata": {},
   "outputs": [
    {
     "data": {
      "text/plain": [
       "array([[-4.30003880e-03, -1.37609961e-02,  1.45097985e-03,\n",
       "        -9.77442600e-03,  1.78051274e-02, -4.14328575e-02,\n",
       "        -1.76941343e-02,  1.27178095e-02, -3.80050912e-02,\n",
       "         2.77981739e-02,  2.48092413e-02, -2.10390314e-02,\n",
       "         1.27720814e-02,  5.35553657e-02,  1.94110796e-02,\n",
       "         1.71707664e-02,  1.43162198e-02, -1.92998126e-02,\n",
       "         3.72407325e-02,  6.64373906e-03,  1.16154002e-02,\n",
       "         6.49142824e-03,  2.85902247e-02,  3.99973243e-02,\n",
       "        -3.26725133e-02, -5.32477722e-02, -6.95127575e-03,\n",
       "         3.37332822e-02, -2.52517946e-02, -4.76373173e-02,\n",
       "         2.79786941e-02,  1.43769244e-02,  2.90460233e-02,\n",
       "        -1.24030188e-01,  1.54010104e-06, -5.23567433e-03,\n",
       "        -2.51353998e-02, -4.64021079e-02, -6.51722252e-02,\n",
       "        -3.07650100e-02, -5.01030423e-02,  3.44599858e-02,\n",
       "        -2.15048697e-02,  4.77749947e-03,  2.04645675e-02,\n",
       "        -2.43165698e-02,  3.90629619e-02,  1.23968460e-01,\n",
       "        -1.22006387e-01,  4.77076881e-02, -2.12412165e-03,\n",
       "         1.32202422e-02, -2.56591272e-02, -1.02081886e-02,\n",
       "        -2.04061605e-02, -5.12254797e-02,  2.04092320e-02,\n",
       "        -5.63750453e-02,  9.50637273e-03,  3.06096599e-02,\n",
       "         4.33657616e-02, -3.35447714e-02, -1.92457270e-02,\n",
       "         1.28969857e-02,  6.86379299e-02,  1.95158813e-02,\n",
       "         5.64125590e-02, -1.16172889e-02,  1.07513298e-03,\n",
       "        -6.17215373e-02, -1.17724827e-02, -2.07838621e-02,\n",
       "        -2.75976527e-02,  3.49406078e-02,  9.49634518e-03,\n",
       "        -5.86163960e-02,  1.03351222e-02, -4.24065664e-02,\n",
       "         2.83137783e-02,  4.07841541e-02, -5.42614027e-04,\n",
       "         3.81554328e-02, -1.71584589e-03,  9.14473161e-02,\n",
       "         1.35341510e-02,  2.88987961e-02, -2.11420562e-03,\n",
       "        -1.30126625e-03, -4.45325524e-02,  3.06618288e-02,\n",
       "        -6.31526858e-02, -9.90562327e-03, -3.67141739e-02,\n",
       "        -1.55323837e-02, -8.56788009e-02, -3.15058678e-02,\n",
       "         4.46892455e-02,  2.19091643e-02,  7.21810013e-03,\n",
       "        -3.88492979e-02,  1.96107756e-02,  3.00937146e-02,\n",
       "         6.67462200e-02, -5.89882350e-03,  2.18220335e-02,\n",
       "         4.66969647e-02, -5.39174676e-02, -1.86333284e-02,\n",
       "        -8.36524293e-02,  8.45690351e-03,  5.36843166e-02,\n",
       "        -9.73281625e-04, -3.43170501e-02,  7.37410039e-02,\n",
       "         5.68381185e-03, -9.64886621e-02,  4.45823222e-02,\n",
       "        -1.67666879e-02,  5.38420603e-02, -3.61235393e-03,\n",
       "        -3.08368588e-03, -1.24730999e-02, -6.00295030e-02,\n",
       "        -1.21699311e-02,  2.31103878e-02, -1.61052588e-02,\n",
       "        -7.79596269e-02,  5.64227365e-02,  8.02285969e-04,\n",
       "         2.58886870e-02, -3.93054150e-02, -1.53880725e-02,\n",
       "         1.73961353e-02, -4.80932146e-02, -1.82283260e-02,\n",
       "         6.81953272e-04, -3.99384052e-02,  4.64606937e-03,\n",
       "        -1.15537615e-02, -6.53839111e-02,  3.92729267e-02,\n",
       "         2.27630185e-03,  8.56142864e-02,  1.95015520e-02,\n",
       "        -1.93796884e-02, -3.16044725e-02,  3.53787988e-02,\n",
       "        -1.48967584e-03,  1.32129192e-02, -1.30787026e-02,\n",
       "         1.18642747e-02, -2.97672190e-02,  3.63361798e-02,\n",
       "        -9.09361988e-03, -5.95663935e-02, -8.71668477e-03,\n",
       "         2.40668003e-03,  2.07956787e-02, -2.19657551e-03,\n",
       "         3.59398648e-02,  1.10761670e-03,  3.66138443e-02,\n",
       "        -7.18504861e-02,  3.79541889e-02, -1.63456853e-02,\n",
       "        -2.94495225e-02, -8.30463395e-02, -1.28388535e-02,\n",
       "         7.10124895e-02,  1.82888899e-02, -2.15449147e-02,\n",
       "        -2.57800277e-02, -2.44342647e-02,  7.46004097e-03,\n",
       "         5.82295246e-02, -5.03133200e-02,  3.10154855e-02,\n",
       "        -2.63261572e-02, -3.46539877e-02, -2.37377156e-02,\n",
       "        -8.45655054e-02, -2.60653216e-02, -2.70397719e-02,\n",
       "         1.43289855e-02, -6.19853009e-03,  8.35447572e-04,\n",
       "        -4.99372110e-02, -2.36015022e-02, -3.95353548e-02,\n",
       "         5.75009221e-03,  6.92789070e-03, -5.75145148e-02,\n",
       "        -2.04225909e-02, -5.78659177e-02,  2.04779021e-02,\n",
       "         2.26565334e-03, -7.24648088e-02, -6.59509702e-03,\n",
       "        -2.52149068e-02,  1.13603966e-02, -1.31225567e-02,\n",
       "        -1.73068251e-02, -1.37931323e-02,  9.93871465e-02,\n",
       "        -1.04217092e-02, -1.13078542e-02,  3.06323227e-02,\n",
       "        -6.46722596e-03,  1.08928941e-02,  4.78002802e-02,\n",
       "         2.50663236e-02,  2.75120586e-02, -2.23897062e-02,\n",
       "        -2.54368149e-02, -2.64930911e-03, -1.59401912e-02,\n",
       "         1.62559059e-02,  3.57039832e-02,  5.03200516e-02,\n",
       "         2.59013455e-02, -4.11867388e-02,  3.11704464e-02,\n",
       "         8.84767100e-02, -1.47068910e-02,  3.04578785e-02,\n",
       "        -2.98909154e-02,  4.71601337e-02,  1.15203690e-02,\n",
       "        -1.46332635e-02,  3.75612900e-02,  2.31595198e-03,\n",
       "         2.44524889e-03,  4.96711098e-02, -2.20736768e-03,\n",
       "        -4.96826246e-02,  6.64544106e-02, -5.20879813e-02,\n",
       "        -6.13454953e-02, -1.72749441e-02, -4.96002398e-02,\n",
       "         8.72073637e-04, -1.91946309e-02, -1.68200675e-02,\n",
       "        -1.44179752e-02,  9.72941704e-03,  1.50710689e-02,\n",
       "         6.01137523e-04, -2.38799136e-02, -2.44483985e-02,\n",
       "        -1.54846543e-02, -1.78314224e-02,  3.72952521e-02,\n",
       "         1.42371180e-02, -2.76982300e-02, -1.76162757e-02,\n",
       "        -3.45673114e-02, -5.45151010e-02,  1.89681388e-02,\n",
       "        -5.20311669e-02, -2.23951172e-02,  3.80678698e-02,\n",
       "        -3.24368738e-02,  1.31458044e-02,  2.79301386e-02,\n",
       "         5.62879257e-02, -3.11144292e-02, -3.22953276e-02,\n",
       "        -1.78822707e-02,  5.55932941e-03,  4.00894694e-03,\n",
       "        -4.00913274e-03, -5.68272211e-02,  2.70117428e-02,\n",
       "        -1.10504115e-02, -1.83039103e-02,  1.34121832e-02,\n",
       "         4.45737727e-02, -3.95995528e-02, -1.17611112e-02,\n",
       "         1.84350628e-02,  3.23456922e-03,  3.23815607e-02,\n",
       "        -1.26229860e-02, -1.65972300e-02, -1.28796054e-02,\n",
       "         1.63951106e-02, -1.31290769e-02,  2.30475552e-02,\n",
       "        -6.46406272e-03,  5.70216961e-02,  1.56698155e-03,\n",
       "         2.96048895e-02,  2.19166614e-02,  2.58532725e-03,\n",
       "         5.25974371e-02,  2.33770926e-02,  8.45504832e-03,\n",
       "        -2.34144609e-02,  4.33482006e-02, -7.33267069e-02,\n",
       "        -5.15677594e-02, -9.81162395e-03,  1.29550230e-02,\n",
       "         1.95047464e-02, -3.06182038e-02, -1.56815499e-02,\n",
       "        -1.84314623e-02, -2.31602415e-02,  7.41639547e-03,\n",
       "         5.26021831e-02,  8.36183969e-03,  3.39766517e-02,\n",
       "        -4.97494489e-02, -6.41487241e-02, -4.95451875e-03,\n",
       "         7.98846968e-03,  3.87027714e-04,  5.42370379e-02,\n",
       "        -2.27601882e-02,  5.14886230e-02,  3.92494239e-02,\n",
       "         1.45397745e-02, -1.47271510e-02,  3.29567702e-03,\n",
       "        -7.20688957e-04, -8.87497980e-03, -5.91843098e-04,\n",
       "         3.97992730e-02, -3.19977337e-03, -2.75472794e-02,\n",
       "        -1.30413501e-02,  9.81746428e-03, -1.99943241e-02,\n",
       "        -5.80028445e-02,  2.75510680e-02, -6.19795658e-02,\n",
       "        -1.48181021e-02, -4.10938822e-02, -1.93164330e-02,\n",
       "         3.91369201e-02,  3.14636193e-02, -5.48167601e-02,\n",
       "        -1.72530245e-02, -6.27194345e-02, -8.65380317e-02,\n",
       "        -4.37572524e-02,  1.70759466e-02,  6.06596954e-02,\n",
       "        -9.20715854e-02, -1.55602535e-02, -6.75257593e-02,\n",
       "        -5.07728681e-02,  2.19491441e-02, -4.11780290e-02,\n",
       "         1.56353172e-02,  3.43314633e-02, -1.73388850e-02,\n",
       "         1.58473905e-02, -1.69676244e-02,  2.23121513e-02,\n",
       "         4.98118671e-03,  2.26911646e-03,  7.53790364e-02,\n",
       "         4.78029847e-02,  4.53921687e-03, -5.00179902e-02,\n",
       "         1.27074756e-02,  2.23189667e-02, -5.35426773e-02,\n",
       "        -7.30630103e-03,  2.78254468e-02,  3.36035453e-02,\n",
       "         2.63899863e-02,  3.15102078e-02, -2.47211829e-02,\n",
       "         4.82023060e-02,  7.02513289e-03,  4.67619710e-02,\n",
       "         8.33384618e-02, -1.77356973e-02,  1.25042452e-02,\n",
       "        -3.63534242e-02, -2.53355186e-02,  7.41450861e-02,\n",
       "         1.90640353e-02, -6.68349164e-03,  3.06443218e-02,\n",
       "        -1.77136939e-02, -1.13595556e-02, -3.87174003e-02,\n",
       "         7.46137742e-03,  3.98177169e-02,  3.54593992e-02,\n",
       "         4.54219840e-02,  6.10381365e-03,  4.82539274e-02,\n",
       "        -2.54046693e-02,  1.18420515e-02,  8.45921785e-03,\n",
       "        -2.58660726e-02,  1.96925588e-02,  6.18995316e-02,\n",
       "         9.83500015e-03,  5.85079901e-02,  7.83625096e-02,\n",
       "        -2.85545527e-03,  2.85764188e-02,  2.11853720e-02,\n",
       "        -2.71093510e-02, -2.31303051e-02, -4.03223746e-02,\n",
       "         3.24825421e-02,  1.65670384e-02,  1.88406501e-02,\n",
       "         1.48266312e-02, -2.33396795e-02,  6.86704367e-03,\n",
       "        -1.22658974e-02,  4.86615449e-02, -5.45247421e-02,\n",
       "        -4.35219370e-02, -9.76061099e-04, -1.23641919e-02,\n",
       "        -2.44720336e-02, -3.93115263e-03,  4.37308056e-03,\n",
       "         9.54676978e-03, -3.24669033e-02,  1.20944111e-03,\n",
       "        -3.62032466e-02, -4.74119596e-02,  3.27487104e-02,\n",
       "        -6.22124001e-02,  7.23572075e-02, -4.60311845e-02,\n",
       "        -3.19529288e-02, -1.72176678e-02,  4.92959395e-02,\n",
       "        -1.34059517e-02,  4.41928506e-02, -3.49861123e-02,\n",
       "         1.95658999e-03, -7.48728216e-02,  3.46789043e-03,\n",
       "         1.96122099e-02, -3.80114503e-02, -4.25965972e-02,\n",
       "        -9.55557451e-03, -1.97327137e-02, -4.41551879e-02,\n",
       "         2.57546175e-02, -6.29740814e-03, -2.27190666e-02,\n",
       "         3.89455259e-02, -1.46849025e-02, -1.73440035e-02,\n",
       "         4.51693572e-02,  2.21221615e-03, -1.78351707e-03,\n",
       "        -1.09276194e-02,  4.05763723e-02,  2.37706397e-02,\n",
       "        -1.96014792e-02, -1.28802424e-03,  6.06547892e-02,\n",
       "        -4.10842672e-02,  9.03776735e-02, -1.33432327e-02,\n",
       "         4.21760119e-02, -3.01293144e-03,  2.88200118e-02,\n",
       "        -2.32774764e-02,  1.94979962e-02, -1.96112618e-02,\n",
       "         3.85852046e-02, -3.43612321e-02,  7.23277330e-02,\n",
       "         3.73972990e-02,  2.39233654e-02,  2.33808570e-02,\n",
       "         1.03878090e-02,  2.67721228e-02,  2.56256256e-02,\n",
       "        -5.74905192e-03, -2.93628555e-02,  3.34976800e-02,\n",
       "         6.65584430e-02, -3.04667675e-03, -1.18181761e-02,\n",
       "        -4.70614322e-02,  6.24259847e-05,  4.69742008e-02,\n",
       "        -2.20361613e-02, -7.15886578e-02, -1.65118966e-02,\n",
       "         2.38984935e-02, -2.28710417e-02, -4.29726541e-02,\n",
       "         4.45190333e-02,  6.29456155e-03, -2.70293821e-02,\n",
       "        -1.40203014e-02,  1.88385788e-02,  3.76401655e-02,\n",
       "        -5.48683899e-03, -2.16238033e-02, -1.34111010e-02,\n",
       "         3.61450179e-03, -1.32303697e-03, -3.66292298e-02,\n",
       "         4.30119364e-03, -4.87611517e-02,  6.23617247e-02,\n",
       "        -5.57799526e-02, -1.31542739e-02,  1.03346109e-01,\n",
       "        -8.00134912e-02, -5.21924794e-02,  6.77967793e-04,\n",
       "        -4.24170159e-02,  8.30628816e-03, -9.00674798e-03,\n",
       "         2.24724114e-02,  4.07801643e-02, -3.34526300e-02,\n",
       "         4.84660678e-02, -5.31432852e-02, -2.07435004e-02,\n",
       "        -4.05580588e-02, -2.60228990e-03, -1.56285446e-02,\n",
       "        -1.07034594e-02,  4.58114147e-02,  3.92818749e-02,\n",
       "        -3.99809219e-02,  2.08095107e-02,  2.58938149e-02,\n",
       "        -1.04361344e-02, -2.43107211e-02, -1.00856097e-02,\n",
       "        -5.60766086e-02,  2.73145884e-02,  4.50416952e-02,\n",
       "         2.61016600e-02,  2.49067936e-02,  6.84339879e-03,\n",
       "         2.71491762e-02, -1.15311705e-02, -3.13409902e-02,\n",
       "         5.28786965e-02,  2.55636498e-02,  1.91146675e-02,\n",
       "        -2.59410893e-03, -4.24747430e-02, -5.27911121e-03,\n",
       "        -5.03722545e-33, -4.84079607e-02,  1.18654827e-02,\n",
       "         5.27526299e-03,  6.47787675e-02, -4.18272950e-02,\n",
       "         4.70442474e-02, -1.68615188e-02, -3.79537642e-02,\n",
       "         2.35861298e-02, -1.81709360e-02, -2.72234585e-02,\n",
       "        -1.24003673e-02,  4.52947896e-03, -2.72580446e-03,\n",
       "         7.25232512e-02, -6.37342036e-02,  4.00491385e-03,\n",
       "        -4.05550264e-02,  1.67551246e-02,  3.47110303e-03,\n",
       "         9.28976107e-03,  1.48865394e-02,  5.08593172e-02,\n",
       "         6.27913699e-03, -1.83375254e-02, -9.84079670e-03,\n",
       "        -2.89890878e-02,  2.59704012e-02,  4.59358655e-02,\n",
       "         8.63418635e-03, -3.18315625e-02,  1.32799624e-02,\n",
       "        -1.53675061e-02,  3.60078039e-03,  2.42862049e-02,\n",
       "         5.40679693e-02,  2.86466647e-02, -4.51480262e-02,\n",
       "         4.30298299e-02,  6.83108298e-03, -2.08076593e-02,\n",
       "        -6.65203258e-02, -5.72083853e-02, -1.02037592e-02,\n",
       "        -3.62809189e-02, -8.25116783e-02, -1.39426822e-02,\n",
       "         3.55909280e-02, -3.81315593e-04,  9.50722210e-03,\n",
       "        -7.91690499e-03, -1.77179296e-02, -9.78804007e-03,\n",
       "        -6.51147291e-02,  4.16116789e-02,  8.83345976e-02,\n",
       "         5.39669879e-02,  1.82784889e-02,  1.97899677e-02,\n",
       "         5.27048297e-02,  1.23807183e-02, -5.38493618e-02,\n",
       "        -2.71688271e-02, -1.29902102e-02,  2.91257948e-02,\n",
       "         6.48653274e-03,  3.90062369e-02, -3.22060799e-03,\n",
       "         3.73982079e-02, -4.95916121e-02,  3.69353965e-02,\n",
       "        -3.65912355e-02,  4.62895073e-03,  6.99205883e-03,\n",
       "        -3.52464500e-03, -1.48740374e-02,  4.38972423e-03,\n",
       "         4.27952148e-02,  4.16758768e-02,  7.44657665e-02,\n",
       "         8.46650917e-03,  4.84214649e-02,  4.36593406e-02,\n",
       "         2.39638798e-03, -1.76759418e-02, -7.83473020e-04,\n",
       "        -1.02471849e-02, -5.26873255e-03, -2.60657142e-03,\n",
       "        -1.65520553e-02, -5.58975004e-02, -1.92341004e-02,\n",
       "         1.29727889e-02,  2.88920756e-02, -7.33763650e-02,\n",
       "        -3.69216874e-02,  1.86593272e-02, -9.78320371e-03,\n",
       "        -2.85711847e-02, -2.50080111e-03,  2.33498905e-02,\n",
       "         2.73176958e-03,  1.67698022e-02, -7.07625272e-03,\n",
       "         7.11048627e-03, -3.60146072e-03,  4.14348431e-02,\n",
       "         4.61175665e-02,  5.11025451e-03,  2.06067902e-03,\n",
       "        -3.46603096e-02, -4.81823785e-03,  4.13958216e-03,\n",
       "        -9.50261876e-02,  7.20617920e-02,  2.14677751e-02,\n",
       "         8.84898752e-03, -6.36921749e-02,  9.95364320e-03,\n",
       "         2.53055673e-02,  2.77120490e-02, -3.53884548e-02,\n",
       "        -1.58514883e-02,  5.63135743e-03, -1.45566529e-02,\n",
       "         6.15229942e-02, -2.01684493e-03,  5.55588044e-02,\n",
       "        -2.85470989e-02,  1.46258296e-02, -1.07846325e-02,\n",
       "         2.52762381e-02,  2.13479439e-07,  6.82452135e-03,\n",
       "         1.32760722e-02,  2.40816250e-02,  4.51515317e-02,\n",
       "        -4.24583592e-02,  5.13856895e-02, -6.54941704e-03,\n",
       "         2.31596157e-02,  2.15047062e-03,  5.54730035e-02,\n",
       "         3.12136933e-02, -2.68820859e-03, -3.50896362e-03,\n",
       "         8.95872153e-03, -1.74125582e-02, -6.00151382e-02,\n",
       "         6.70754835e-02, -3.96832041e-02,  5.01901144e-03,\n",
       "        -2.93565728e-02, -2.31781173e-02,  5.83594851e-02,\n",
       "         4.81508300e-02,  2.89159585e-02,  1.03042535e-02,\n",
       "         3.56090367e-02,  1.28372367e-02, -9.95754749e-02,\n",
       "        -2.31991261e-02, -6.36727661e-02,  1.59021951e-02,\n",
       "        -6.30787387e-02, -7.78832333e-03,  1.64240394e-02,\n",
       "         1.18891674e-03, -4.12197560e-02,  3.43222581e-02,\n",
       "         2.36732396e-03,  3.14838253e-02,  6.84107393e-02,\n",
       "        -3.76408473e-02,  1.79453362e-02, -1.88100450e-02,\n",
       "        -4.63824794e-02, -1.34888701e-02, -2.83270292e-02,\n",
       "        -7.26060010e-03,  1.58268469e-03, -7.48705715e-02,\n",
       "         4.44507413e-02,  4.35300507e-02, -5.42045273e-02,\n",
       "         4.32104192e-04, -1.32557703e-02, -1.48370361e-03,\n",
       "         4.61806059e-02,  3.18663865e-02,  2.48599909e-02,\n",
       "         1.80719830e-02, -3.36991064e-02,  9.70540848e-03,\n",
       "         5.11527695e-02, -3.66316922e-02,  7.54358396e-02,\n",
       "        -5.38863167e-02, -1.51996389e-02,  5.90070859e-02,\n",
       "         9.48270317e-35,  2.66467594e-02, -3.88132818e-02,\n",
       "         2.57939938e-03,  5.20680584e-02, -1.02975322e-02,\n",
       "         3.65210301e-03,  7.77255967e-02,  1.58256143e-02,\n",
       "        -5.66393277e-03,  3.42249614e-03, -2.49588415e-02]], dtype=float32)"
      ]
     },
     "execution_count": 22,
     "metadata": {},
     "output_type": "execute_result"
    }
   ],
   "source": [
    "svec"
   ]
  },
  {
   "cell_type": "code",
   "execution_count": 25,
   "id": "5cf60933",
   "metadata": {},
   "outputs": [
    {
     "data": {
      "text/plain": [
       "(array([[1.4163513]], dtype=float32), array([[2]], dtype=int64))"
      ]
     },
     "execution_count": 25,
     "metadata": {},
     "output_type": "execute_result"
    }
   ],
   "source": [
    "index.search(svec, k=1)"
   ]
  },
  {
   "cell_type": "code",
   "execution_count": 38,
   "id": "a05cf6f5",
   "metadata": {},
   "outputs": [
    {
     "data": {
      "text/html": [
       "<div>\n",
       "<style scoped>\n",
       "    .dataframe tbody tr th:only-of-type {\n",
       "        vertical-align: middle;\n",
       "    }\n",
       "\n",
       "    .dataframe tbody tr th {\n",
       "        vertical-align: top;\n",
       "    }\n",
       "\n",
       "    .dataframe thead th {\n",
       "        text-align: right;\n",
       "    }\n",
       "</style>\n",
       "<table border=\"1\" class=\"dataframe\">\n",
       "  <thead>\n",
       "    <tr style=\"text-align: right;\">\n",
       "      <th></th>\n",
       "      <th>text</th>\n",
       "      <th>category</th>\n",
       "    </tr>\n",
       "  </thead>\n",
       "  <tbody>\n",
       "    <tr>\n",
       "      <th>2</th>\n",
       "      <td>These are the latest fashion trends for this week</td>\n",
       "      <td>Fashion</td>\n",
       "    </tr>\n",
       "  </tbody>\n",
       "</table>\n",
       "</div>"
      ],
      "text/plain": [
       "                                                text category\n",
       "2  These are the latest fashion trends for this week  Fashion"
      ]
     },
     "execution_count": 38,
     "metadata": {},
     "output_type": "execute_result"
    }
   ],
   "source": [
    "df.loc[[2]]"
   ]
  },
  {
   "cell_type": "code",
   "execution_count": 42,
   "id": "b8dd17fb",
   "metadata": {},
   "outputs": [],
   "source": [
    "distances, I = index.search(svec, k =2)"
   ]
  },
  {
   "cell_type": "code",
   "execution_count": 43,
   "id": "466b27ee",
   "metadata": {},
   "outputs": [
    {
     "data": {
      "text/plain": [
       "array([[2, 3]], dtype=int64)"
      ]
     },
     "execution_count": 43,
     "metadata": {},
     "output_type": "execute_result"
    }
   ],
   "source": [
    "I"
   ]
  },
  {
   "cell_type": "code",
   "execution_count": 44,
   "id": "15528153",
   "metadata": {},
   "outputs": [
    {
     "data": {
      "text/plain": [
       "array([[1.4163513, 1.5802181]], dtype=float32)"
      ]
     },
     "execution_count": 44,
     "metadata": {},
     "output_type": "execute_result"
    }
   ],
   "source": [
    "distances"
   ]
  },
  {
   "cell_type": "code",
   "execution_count": 45,
   "id": "5ed17ba3",
   "metadata": {},
   "outputs": [
    {
     "data": {
      "text/html": [
       "<div>\n",
       "<style scoped>\n",
       "    .dataframe tbody tr th:only-of-type {\n",
       "        vertical-align: middle;\n",
       "    }\n",
       "\n",
       "    .dataframe tbody tr th {\n",
       "        vertical-align: top;\n",
       "    }\n",
       "\n",
       "    .dataframe thead th {\n",
       "        text-align: right;\n",
       "    }\n",
       "</style>\n",
       "<table border=\"1\" class=\"dataframe\">\n",
       "  <thead>\n",
       "    <tr style=\"text-align: right;\">\n",
       "      <th></th>\n",
       "      <th>text</th>\n",
       "      <th>category</th>\n",
       "    </tr>\n",
       "  </thead>\n",
       "  <tbody>\n",
       "    <tr>\n",
       "      <th>2</th>\n",
       "      <td>These are the latest fashion trends for this week</td>\n",
       "      <td>Fashion</td>\n",
       "    </tr>\n",
       "    <tr>\n",
       "      <th>3</th>\n",
       "      <td>Vibrant color jeans for male are becoming a trend</td>\n",
       "      <td>Fashion</td>\n",
       "    </tr>\n",
       "  </tbody>\n",
       "</table>\n",
       "</div>"
      ],
      "text/plain": [
       "                                                text category\n",
       "2  These are the latest fashion trends for this week  Fashion\n",
       "3  Vibrant color jeans for male are becoming a trend  Fashion"
      ]
     },
     "execution_count": 45,
     "metadata": {},
     "output_type": "execute_result"
    }
   ],
   "source": [
    "df.loc[I[0]]"
   ]
  },
  {
   "cell_type": "code",
   "execution_count": null,
   "id": "3df4b7bc",
   "metadata": {},
   "outputs": [],
   "source": []
  }
 ],
 "metadata": {
  "kernelspec": {
   "display_name": "Python 3 (ipykernel)",
   "language": "python",
   "name": "python3"
  },
  "language_info": {
   "codemirror_mode": {
    "name": "ipython",
    "version": 3
   },
   "file_extension": ".py",
   "mimetype": "text/x-python",
   "name": "python",
   "nbconvert_exporter": "python",
   "pygments_lexer": "ipython3",
   "version": "3.11.5"
  }
 },
 "nbformat": 4,
 "nbformat_minor": 5
}
